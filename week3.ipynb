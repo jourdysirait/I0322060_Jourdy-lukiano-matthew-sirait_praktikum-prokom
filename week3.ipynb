{
 "cells": [
  {
   "cell_type": "code",
   "execution_count": null,
   "metadata": {},
   "outputs": [],
   "source": [
    "1 print(\"Jourdy Sirait\")\n",
    "2 print(\"I0322060\")"
   ]
  },
  {
   "cell_type": "code",
   "execution_count": null,
   "metadata": {},
   "outputs": [],
   "source": [
    "1 #operasi\n",
    "2 x=int(print(\"masukan angka yang anda inginkan : \"))\n",
    "3 y = x\n",
    "\n",
    "\n",
    "\n",
    "\n"
   ]
  },
  {
   "cell_type": "code",
   "execution_count": null,
   "metadata": {},
   "outputs": [],
   "source": []
  }
 ],
 "metadata": {
  "language_info": {
   "name": "python"
  },
  "orig_nbformat": 4
 },
 "nbformat": 4,
 "nbformat_minor": 2
}
